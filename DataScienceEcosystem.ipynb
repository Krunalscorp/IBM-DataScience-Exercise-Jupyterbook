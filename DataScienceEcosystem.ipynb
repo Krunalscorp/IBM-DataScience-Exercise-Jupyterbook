{
 "cells": [
  {
   "cell_type": "markdown",
   "metadata": {},
   "source": [
    "<center>\n",
    "    <img src=\"https://cf-courses-data.s3.us.cloud-object-storage.appdomain.cloud/IBMDeveloperSkillsNetwork-DS0105EN-SkillsNetwork/labs/Module2/images/SN_web_lightmode.png\" width=\"300\" alt=\"cognitiveclass.ai logo\">\n",
    "</center>\n"
   ]
  },
  {
   "cell_type": "markdown",
   "metadata": {},
   "source": [
    "#### Add your code below following the instructions given in the course\n"
   ]
  },
  {
   "cell_type": "markdown",
   "metadata": {},
   "source": [
    "# Data Science Tools and Ecosystem"
   ]
  },
  {
   "cell_type": "markdown",
   "metadata": {},
   "source": [
    "## In this notebook, Data Science Tools and Ecosystem are summarized"
   ]
  },
  {
   "cell_type": "markdown",
   "metadata": {},
   "source": [
    "#### __Objectives:__\n",
    "- List popular languages for Data Science\n",
    "- List commonly used libraries\n",
    "- Table of data Science Tools\n",
    "- Excecuting some Python Codes\n"
   ]
  },
  {
   "cell_type": "markdown",
   "metadata": {},
   "source": [
    "### Some of the popular languages that Data Scientists use are:\n",
    "1. __R:__ It is popular among statisticians,mathematician, and data miners with largest repository\n",
    "of statistical knowledge. It's array-oriented syntax makes it easier to translate from math to code.\n",
    "      \n",
    "2. __Python:__ It is a general purpose language. It contains scientific computing libraries like Pandas,\n",
    "Numpy, Scipy, Matplotlib. Also, AI libraries such as TenserFlow, Pytorch, etc.\n",
    "\n",
    "3. __SQL:__ Structured Query Language. It is a non procedural language and its scope is limited to querying\n",
    "and managing data.\n",
    "\n",
    "4. __Java:__ A general purpose object-oriented programming language. Weka, Java-ML, Apache MLibe are \n",
    "examples of Java tools for Data Science.\n"
   ]
  },
  {
   "cell_type": "markdown",
   "metadata": {},
   "source": [
    "### Some of the commonly used libraries used by Data Scientists include:\n",
    "1. **Pandas:** It provides tools to work with different types of dataf for effective data cleaning,\n",
    "manipulation, and analysis. Also provides easy indexing.\n",
    "\n",
    "2. __Matplotlib:__ It is a visualization library used for making graphs nad plots.\n",
    "\n",
    "3. __Scikit-learn:__ It is a Machine learning library containing tools for modeling like regressiong,\n",
    "classification, clustering, etc.\n",
    "\n",
    "4. __TenserFlow:__ It's a low-lever framework used in the large-scale production of deep learning models."
   ]
  },
  {
   "cell_type": "markdown",
   "metadata": {},
   "source": [
    "|Data Science Tools|\n",
    "|------------------|\n",
    "|RStudio|\n",
    "|Apache Hadoop|\n",
    "|TenserFlow|"
   ]
  },
  {
   "cell_type": "markdown",
   "metadata": {},
   "source": [
    "### Below are a few examples of evaluating arithmetic expressions in Python:\n",
    "\n",
    "print((5+7)*3)\n",
    "\n",
    "a=3.0 <br> \n",
    "b=2.1 <br>\n",
    "print(c=(a/b))\n",
    "\n",
    "import math as m <br>\n",
    "print(m.ceil(a)+ m.floor(b))"
   ]
  },
  {
   "cell_type": "code",
   "execution_count": 6,
   "metadata": {},
   "outputs": [
    {
     "name": "stdout",
     "output_type": "stream",
     "text": [
      "17\n"
     ]
    }
   ],
   "source": [
    "# This a simple arithmetic expression to mutiply then add integers\n",
    "print(((3*4)+5))"
   ]
  },
  {
   "cell_type": "code",
   "execution_count": 10,
   "metadata": {},
   "outputs": [
    {
     "name": "stdout",
     "output_type": "stream",
     "text": [
      "the number of hours is 3.3333333333333335\n"
     ]
    }
   ],
   "source": [
    "# This will convert 200 minutes to hours by diving by 60\n",
    "h= (200/60)\n",
    "print(\"the number of hours is {}\".format(h))"
   ]
  },
  {
   "cell_type": "markdown",
   "metadata": {},
   "source": [
    "## Author\n",
    "Krunal"
   ]
  },
  {
   "cell_type": "code",
   "execution_count": null,
   "metadata": {},
   "outputs": [],
   "source": []
  }
 ],
 "metadata": {
  "kernelspec": {
   "display_name": "Python",
   "language": "python",
   "name": "conda-env-python-py"
  },
  "language_info": {
   "codemirror_mode": {
    "name": "ipython",
    "version": 3
   },
   "file_extension": ".py",
   "mimetype": "text/x-python",
   "name": "python",
   "nbconvert_exporter": "python",
   "pygments_lexer": "ipython3",
   "version": "3.7.12"
  }
 },
 "nbformat": 4,
 "nbformat_minor": 4
}
